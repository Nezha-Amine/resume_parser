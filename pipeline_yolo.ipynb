{
 "cells": [
  {
   "cell_type": "code",
   "execution_count": 1,
   "metadata": {},
   "outputs": [
    {
     "name": "stderr",
     "output_type": "stream",
     "text": [
      "c:\\Users\\hp\\parser_project\\Lib\\site-packages\\tqdm\\auto.py:21: TqdmWarning: IProgress not found. Please update jupyter and ipywidgets. See https://ipywidgets.readthedocs.io/en/stable/user_install.html\n",
      "  from .autonotebook import tqdm as notebook_tqdm\n"
     ]
    }
   ],
   "source": [
    "from pyspark.sql.functions import regexp_replace\n",
    "from pyspark.sql import SparkSession\n",
    "from custom_package.transformer import  DetectRegionsText\n",
    "from pyspark.ml import Pipeline\n",
    "from pyspark.sql import SparkSession\n",
    "from pyspark.ml import Pipeline, PipelineModel\n",
    "import os\n",
    "import sys\n",
    "import json\n",
    "import re\n",
    "\n",
    "os.environ['PYSPARK_PYTHON'] = sys.executable\n",
    "os.environ['PYSPARK_DRIVER_PYTHON'] = sys.executable"
   ]
  },
  {
   "cell_type": "code",
   "execution_count": 2,
   "metadata": {},
   "outputs": [],
   "source": [
    "# Initialize SparkSession\n",
    "spark = SparkSession.builder \\\n",
    "    .appName(\"PipelineSession\") \\\n",
    "    .master(\"local\") \\\n",
    "    .config(\"spark.hadoop.fs.defaultFS\",\"file:///\")\\\n",
    "    .getOrCreate()\n",
    "\n",
    "# Read images data from Spark\n",
    "images_df = spark.read.format(\"binaryFile\").option(\"pathGlobFilter\", \"*.*\").load(\"../assets/cv_test_for_pipeline/\")\n",
    "# Convert Spark DataFrame to Pandas DataFrame\n",
    "images_df_pandas = images_df.select(\"path\").toPandas()\n",
    "# Clean path column\n",
    "images_df_pandas['path'] = images_df_pandas['path'].str.replace(r'^file:/', '', regex=True)\n",
    "    \n",
    "# Initialize transformer\n",
    "detector = DetectRegionsText(inputCol=\"path\", outputCol=\"json_res\")"
   ]
  },
  {
   "cell_type": "code",
   "execution_count": 3,
   "metadata": {},
   "outputs": [],
   "source": [
    "p = Pipeline(stages=[detector])\n",
    "pm = p.fit(images_df_pandas)"
   ]
  },
  {
   "cell_type": "code",
   "execution_count": 4,
   "metadata": {},
   "outputs": [
    {
     "name": "stderr",
     "output_type": "stream",
     "text": [
      "c:\\Users\\hp\\parser_project\\Lib\\site-packages\\ultralytics\\nn\\tasks.py:567: FutureWarning: You are using `torch.load` with `weights_only=False` (the current default value), which uses the default pickle module implicitly. It is possible to construct malicious pickle data which will execute arbitrary code during unpickling (See https://github.com/pytorch/pytorch/blob/main/SECURITY.md#untrusted-models for more details). In a future release, the default value for `weights_only` will be flipped to `True`. This limits the functions that could be executed during unpickling. Arbitrary objects will no longer be allowed to be loaded via this mode unless they are explicitly allowlisted by the user via `torch.serialization.add_safe_globals`. We recommend you start setting `weights_only=True` for any use case where you don't have full control of the loaded file. Please open an issue on GitHub for any issues related to this experimental feature.\n",
      "  return torch.load(file, map_location='cpu'), file  # load\n",
      "\n",
      "image 1/1 c:\\Users\\hp\\parser_project\\assets\\test_pip\\CV Hicham Rhafoune 2024_page_4.png: 640x448 (no detections), 975.8ms\n",
      "Speed: 39.7ms preprocess, 975.8ms inference, 16.0ms postprocess per image at shape (1, 3, 640, 448)\n",
      "\n",
      "image 1/1 c:\\Users\\hp\\parser_project\\assets\\test_pip\\1686115465792_page_1.png: 640x480 1 part1, 1 part4, 1 part5, 354.2ms\n",
      "Speed: 8.0ms preprocess, 354.2ms inference, 13.2ms postprocess per image at shape (1, 3, 640, 480)\n",
      "\n",
      "image 1/1 c:\\Users\\hp\\parser_project\\assets\\test_pip\\1704463302573_page_1.png: 640x480 1 part2, 1 part3, 1 part4, 1 part5, 410.5ms\n",
      "Speed: 7.7ms preprocess, 410.5ms inference, 4.0ms postprocess per image at shape (1, 3, 640, 480)\n",
      "\n",
      "image 1/1 c:\\Users\\hp\\parser_project\\assets\\test_pip\\1685393453361_page_1.png: 640x480 1 part1, 1 part4, 1 part5, 637.9ms\n",
      "Speed: 18.0ms preprocess, 637.9ms inference, 1.0ms postprocess per image at shape (1, 3, 640, 480)\n",
      "\n",
      "image 1/1 c:\\Users\\hp\\parser_project\\assets\\test_pip\\1704450523072_page_1.png: 640x480 1 part1, 1 part2, 1 part4, 1 part5, 383.6ms\n",
      "Speed: 11.9ms preprocess, 383.6ms inference, 3.0ms postprocess per image at shape (1, 3, 640, 480)\n",
      "\n",
      "image 1/1 c:\\Users\\hp\\parser_project\\assets\\test_pip\\CV Hicham Rhafoune 2024_page_2.png: 640x448 1 part4, 308.3ms\n",
      "Speed: 7.0ms preprocess, 308.3ms inference, 2.0ms postprocess per image at shape (1, 3, 640, 448)\n",
      "\n",
      "image 1/1 c:\\Users\\hp\\parser_project\\assets\\test_pip\\CV Hicham Rhafoune 2024_page_1.png: 640x448 1 part4, 285.5ms\n",
      "Speed: 7.0ms preprocess, 285.5ms inference, 2.0ms postprocess per image at shape (1, 3, 640, 448)\n",
      "\n",
      "image 1/1 c:\\Users\\hp\\parser_project\\assets\\test_pip\\CV Hicham Rhafoune 2024_page_3.png: 640x448 1 part4, 1 part5, 257.0ms\n",
      "Speed: 8.0ms preprocess, 257.0ms inference, 2.0ms postprocess per image at shape (1, 3, 640, 448)\n"
     ]
    },
    {
     "name": "stdout",
     "output_type": "stream",
     "text": [
      "Start Extract Process\n",
      "End Extract Process\n",
      "Start Generate Process\n",
      "End Generate Process\n"
     ]
    },
    {
     "data": {
      "text/plain": [
       "DataFrame[path: string, path_of_image: string, predictions: array<map<string,bigint>>, text: string, json_res: string]"
      ]
     },
     "execution_count": 4,
     "metadata": {},
     "output_type": "execute_result"
    }
   ],
   "source": [
    "pm.transform(images_df_pandas)"
   ]
  },
  {
   "cell_type": "code",
   "execution_count": 5,
   "metadata": {},
   "outputs": [],
   "source": [
    "# transformed = pm.transform(images_df_pandas)"
   ]
  },
  {
   "cell_type": "code",
   "execution_count": 6,
   "metadata": {},
   "outputs": [],
   "source": [
    "# transformed.show()"
   ]
  },
  {
   "cell_type": "code",
   "execution_count": 7,
   "metadata": {},
   "outputs": [],
   "source": [
    "# transformed_df = transformed.toPandas()\n",
    "# columns_to_check =['path','text']\n",
    "# mask = ~transformed_df[columns_to_check].apply(lambda x: x.eq('NaN')).any(axis=1)\n",
    "# final_df_cleaned = transformed_df[mask]\n",
    "# final_df_cleaned = final_df_cleaned.drop(['path_of_image', 'predictions','text'] , axis=1)\n",
    "# final_df_cleaned['name'] = final_df_cleaned['path'].apply(\n",
    "#     lambda path: os.path.splitext(os.path.basename(path))[0]\n",
    "# )\n",
    "# final_df_cleaned['json_res'] = final_df_cleaned['json_res'].apply(\n",
    "#     lambda res: re.sub(r'```', '', re.sub(r'json', '', res))\n",
    "# )"
   ]
  },
  {
   "cell_type": "code",
   "execution_count": 8,
   "metadata": {},
   "outputs": [],
   "source": [
    "# final_df_cleaned"
   ]
  },
  {
   "cell_type": "code",
   "execution_count": 9,
   "metadata": {},
   "outputs": [
    {
     "name": "stdout",
     "output_type": "stream",
     "text": [
      "Spark Warehouse Directory: file:/C:/Users/hp/parser_project/code/spark-warehouse\n"
     ]
    }
   ],
   "source": [
    "warehouse_dir = spark.conf.get(\"spark.sql.warehouse.dir\")\n",
    "print(f\"Spark Warehouse Directory: {warehouse_dir}\")"
   ]
  },
  {
   "cell_type": "code",
   "execution_count": 10,
   "metadata": {},
   "outputs": [],
   "source": [
    "pm.save(warehouse_dir)"
   ]
  },
  {
   "cell_type": "code",
   "execution_count": 18,
   "metadata": {},
   "outputs": [],
   "source": [
    "images_df = spark.read.format(\"binaryFile\").option(\"pathGlobFilter\", \"*.*\").load(\"../assets/cvpipeline/\")\n",
    "# Convert Spark DataFrame to Pandas DataFrame\n",
    "images_df_pandas = images_df.select(\"path\").toPandas()\n",
    "# Clean path column\n",
    "images_df_pandas['path'] = images_df_pandas['path'].str.replace(r'^file:/', '', regex=True) "
   ]
  },
  {
   "cell_type": "code",
   "execution_count": 19,
   "metadata": {},
   "outputs": [],
   "source": [
    "loaded_pipeline = PipelineModel.load(warehouse_dir)"
   ]
  },
  {
   "cell_type": "code",
   "execution_count": 20,
   "metadata": {},
   "outputs": [
    {
     "name": "stderr",
     "output_type": "stream",
     "text": [
      "c:\\Users\\hp\\parser_project\\Lib\\site-packages\\ultralytics\\nn\\tasks.py:567: FutureWarning: You are using `torch.load` with `weights_only=False` (the current default value), which uses the default pickle module implicitly. It is possible to construct malicious pickle data which will execute arbitrary code during unpickling (See https://github.com/pytorch/pytorch/blob/main/SECURITY.md#untrusted-models for more details). In a future release, the default value for `weights_only` will be flipped to `True`. This limits the functions that could be executed during unpickling. Arbitrary objects will no longer be allowed to be loaded via this mode unless they are explicitly allowlisted by the user via `torch.serialization.add_safe_globals`. We recommend you start setting `weights_only=True` for any use case where you don't have full control of the loaded file. Please open an issue on GitHub for any issues related to this experimental feature.\n",
      "  return torch.load(file, map_location='cpu'), file  # load\n",
      "\n",
      "image 1/1 c:\\Users\\hp\\parser_project\\assets\\test_pip\\CV Hicham Rhafoune 2024_page_4.png: 640x448 (no detections), 288.4ms\n",
      "Speed: 9.0ms preprocess, 288.4ms inference, 0.0ms postprocess per image at shape (1, 3, 640, 448)\n",
      "\n",
      "image 1/1 c:\\Users\\hp\\parser_project\\assets\\test_pip\\CV Hicham Rhafoune 2024_page_2.png: 640x448 1 part4, 305.4ms\n",
      "Speed: 6.0ms preprocess, 305.4ms inference, 2.6ms postprocess per image at shape (1, 3, 640, 448)\n",
      "\n",
      "image 1/1 c:\\Users\\hp\\parser_project\\assets\\test_pip\\CV Hicham Rhafoune 2024_page_1.png: 640x448 1 part4, 307.0ms\n",
      "Speed: 7.0ms preprocess, 307.0ms inference, 2.3ms postprocess per image at shape (1, 3, 640, 448)\n",
      "\n",
      "image 1/1 c:\\Users\\hp\\parser_project\\assets\\test_pip\\CV Hicham Rhafoune 2024_page_3.png: 640x448 1 part4, 1 part5, 269.0ms\n",
      "Speed: 5.0ms preprocess, 269.0ms inference, 2.0ms postprocess per image at shape (1, 3, 640, 448)\n"
     ]
    },
    {
     "name": "stdout",
     "output_type": "stream",
     "text": [
      "Start Extract Process\n",
      "End Extract Process\n",
      "Start Generate Process\n",
      "End Generate Process\n"
     ]
    }
   ],
   "source": [
    "transformed_data = loaded_pipeline.transform(images_df_pandas)"
   ]
  },
  {
   "cell_type": "code",
   "execution_count": 21,
   "metadata": {},
   "outputs": [
    {
     "name": "stdout",
     "output_type": "stream",
     "text": [
      "+--------------------+--------------------+--------------------+--------------------+--------------------+\n",
      "|                path|       path_of_image|         predictions|                text|            json_res|\n",
      "+--------------------+--------------------+--------------------+--------------------+--------------------+\n",
      "|c:/Users/hp/parse...|c:/Users/hp/parse...|                  []|Clients\\n° ”\\n\\ B...|```json\\n{\\n  \"no...|\n",
      "|                 NaN|c:/Users/hp/parse...|[{class -> 3, bbo...|                 NaN|Veuillez fournir ...|\n",
      "|                 NaN|c:/Users/hp/parse...|[{class -> 3, bbo...|                 NaN|Veuillez me fourn...|\n",
      "|                 NaN|c:/Users/hp/parse...|[{class -> 3, bbo...|                 NaN|Veuillez fournir ...|\n",
      "+--------------------+--------------------+--------------------+--------------------+--------------------+\n",
      "\n"
     ]
    }
   ],
   "source": [
    "transformed_data.show()"
   ]
  },
  {
   "cell_type": "code",
   "execution_count": 22,
   "metadata": {},
   "outputs": [],
   "source": [
    "transformed_df = transformed_data.toPandas()\n",
    "columns_to_check =['path','text']\n",
    "mask = ~transformed_df[columns_to_check].apply(lambda x: x.eq('NaN')).any(axis=1)\n",
    "final_df_cleaned = transformed_df[mask]\n",
    "final_df_cleaned = final_df_cleaned.drop(['path_of_image', 'predictions','text'] , axis=1)\n",
    "final_df_cleaned['name'] = final_df_cleaned['path'].apply(\n",
    "    lambda path: os.path.splitext(os.path.basename(path))[0]\n",
    ")\n",
    "final_df_cleaned['json_res'] = final_df_cleaned['json_res'].apply(\n",
    "    lambda res: re.sub(r'```', '', re.sub(r'json', '', res))\n",
    ")"
   ]
  },
  {
   "cell_type": "code",
   "execution_count": 23,
   "metadata": {},
   "outputs": [
    {
     "data": {
      "text/html": [
       "<div>\n",
       "<style scoped>\n",
       "    .dataframe tbody tr th:only-of-type {\n",
       "        vertical-align: middle;\n",
       "    }\n",
       "\n",
       "    .dataframe tbody tr th {\n",
       "        vertical-align: top;\n",
       "    }\n",
       "\n",
       "    .dataframe thead th {\n",
       "        text-align: right;\n",
       "    }\n",
       "</style>\n",
       "<table border=\"1\" class=\"dataframe\">\n",
       "  <thead>\n",
       "    <tr style=\"text-align: right;\">\n",
       "      <th></th>\n",
       "      <th>path</th>\n",
       "      <th>json_res</th>\n",
       "      <th>name</th>\n",
       "    </tr>\n",
       "  </thead>\n",
       "  <tbody>\n",
       "    <tr>\n",
       "      <th>0</th>\n",
       "      <td>c:/Users/hp/parser_project/assets/cvpipeline/C...</td>\n",
       "      <td>\\n{\\n  \"nom_prenom\": \"Hicham Rh\",\\n  \"profil\":...</td>\n",
       "      <td>CV Hicham Rhafoune 2024</td>\n",
       "    </tr>\n",
       "  </tbody>\n",
       "</table>\n",
       "</div>"
      ],
      "text/plain": [
       "                                                path  \\\n",
       "0  c:/Users/hp/parser_project/assets/cvpipeline/C...   \n",
       "\n",
       "                                            json_res                     name  \n",
       "0  \\n{\\n  \"nom_prenom\": \"Hicham Rh\",\\n  \"profil\":...  CV Hicham Rhafoune 2024  "
      ]
     },
     "execution_count": 23,
     "metadata": {},
     "output_type": "execute_result"
    }
   ],
   "source": [
    "final_df_cleaned"
   ]
  },
  {
   "cell_type": "code",
   "execution_count": null,
   "metadata": {},
   "outputs": [],
   "source": []
  }
 ],
 "metadata": {
  "kernelspec": {
   "display_name": "resume_parser",
   "language": "python",
   "name": "python3"
  },
  "language_info": {
   "codemirror_mode": {
    "name": "ipython",
    "version": 3
   },
   "file_extension": ".py",
   "mimetype": "text/x-python",
   "name": "python",
   "nbconvert_exporter": "python",
   "pygments_lexer": "ipython3",
   "version": "3.11.9"
  }
 },
 "nbformat": 4,
 "nbformat_minor": 2
}
